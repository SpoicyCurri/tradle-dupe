{
 "cells": [
  {
   "cell_type": "code",
   "execution_count": 1,
   "metadata": {},
   "outputs": [],
   "source": [
    "import plotly.express as px\n",
    "import pandas as pd\n",
    "import numpy as np"
   ]
  },
  {
   "cell_type": "code",
   "execution_count": 2,
   "metadata": {},
   "outputs": [],
   "source": [
    "df = pd.read_csv(\"tradedata_uncomtrade.csv\", encoding_errors='ignore')"
   ]
  },
  {
   "cell_type": "code",
   "execution_count": 3,
   "metadata": {},
   "outputs": [
    {
     "data": {
      "text/html": [
       "<div>\n",
       "<style scoped>\n",
       "    .dataframe tbody tr th:only-of-type {\n",
       "        vertical-align: middle;\n",
       "    }\n",
       "\n",
       "    .dataframe tbody tr th {\n",
       "        vertical-align: top;\n",
       "    }\n",
       "\n",
       "    .dataframe thead th {\n",
       "        text-align: right;\n",
       "    }\n",
       "</style>\n",
       "<table border=\"1\" class=\"dataframe\">\n",
       "  <thead>\n",
       "    <tr style=\"text-align: right;\">\n",
       "      <th></th>\n",
       "      <th>refYear</th>\n",
       "      <th>reporterCode</th>\n",
       "      <th>reporterISO</th>\n",
       "      <th>reporterDesc</th>\n",
       "      <th>flowDesc</th>\n",
       "      <th>classificationCode</th>\n",
       "      <th>cmdCode</th>\n",
       "      <th>cmdDesc</th>\n",
       "      <th>fobvalue</th>\n",
       "      <th>primaryValue</th>\n",
       "    </tr>\n",
       "  </thead>\n",
       "  <tbody>\n",
       "    <tr>\n",
       "      <th>0</th>\n",
       "      <td>2023</td>\n",
       "      <td>533</td>\n",
       "      <td>ABW</td>\n",
       "      <td>Aruba</td>\n",
       "      <td>Export</td>\n",
       "      <td>H4</td>\n",
       "      <td>1</td>\n",
       "      <td>Animals; live</td>\n",
       "      <td>114036.870</td>\n",
       "      <td>114036.870</td>\n",
       "    </tr>\n",
       "    <tr>\n",
       "      <th>1</th>\n",
       "      <td>2023</td>\n",
       "      <td>533</td>\n",
       "      <td>ABW</td>\n",
       "      <td>Aruba</td>\n",
       "      <td>Export</td>\n",
       "      <td>H4</td>\n",
       "      <td>2</td>\n",
       "      <td>Meat and edible meat offal</td>\n",
       "      <td>12362.570</td>\n",
       "      <td>12362.570</td>\n",
       "    </tr>\n",
       "    <tr>\n",
       "      <th>2</th>\n",
       "      <td>2023</td>\n",
       "      <td>533</td>\n",
       "      <td>ABW</td>\n",
       "      <td>Aruba</td>\n",
       "      <td>Export</td>\n",
       "      <td>H4</td>\n",
       "      <td>3</td>\n",
       "      <td>Fish and crustaceans, molluscs and other aquat...</td>\n",
       "      <td>111349.719</td>\n",
       "      <td>111349.719</td>\n",
       "    </tr>\n",
       "    <tr>\n",
       "      <th>3</th>\n",
       "      <td>2023</td>\n",
       "      <td>533</td>\n",
       "      <td>ABW</td>\n",
       "      <td>Aruba</td>\n",
       "      <td>Export</td>\n",
       "      <td>H4</td>\n",
       "      <td>4</td>\n",
       "      <td>Dairy produce; birds' eggs; natural honey; edi...</td>\n",
       "      <td>246463.684</td>\n",
       "      <td>246463.684</td>\n",
       "    </tr>\n",
       "    <tr>\n",
       "      <th>4</th>\n",
       "      <td>2023</td>\n",
       "      <td>533</td>\n",
       "      <td>ABW</td>\n",
       "      <td>Aruba</td>\n",
       "      <td>Export</td>\n",
       "      <td>H4</td>\n",
       "      <td>6</td>\n",
       "      <td>Trees and other plants, live; bulbs, roots and...</td>\n",
       "      <td>3108.380</td>\n",
       "      <td>3108.380</td>\n",
       "    </tr>\n",
       "  </tbody>\n",
       "</table>\n",
       "</div>"
      ],
      "text/plain": [
       "   refYear  reporterCode reporterISO reporterDesc flowDesc classificationCode  \\\n",
       "0     2023           533         ABW        Aruba   Export                 H4   \n",
       "1     2023           533         ABW        Aruba   Export                 H4   \n",
       "2     2023           533         ABW        Aruba   Export                 H4   \n",
       "3     2023           533         ABW        Aruba   Export                 H4   \n",
       "4     2023           533         ABW        Aruba   Export                 H4   \n",
       "\n",
       "   cmdCode                                            cmdDesc    fobvalue  \\\n",
       "0        1                                      Animals; live  114036.870   \n",
       "1        2                         Meat and edible meat offal   12362.570   \n",
       "2        3  Fish and crustaceans, molluscs and other aquat...  111349.719   \n",
       "3        4  Dairy produce; birds' eggs; natural honey; edi...  246463.684   \n",
       "4        6  Trees and other plants, live; bulbs, roots and...    3108.380   \n",
       "\n",
       "   primaryValue  \n",
       "0    114036.870  \n",
       "1     12362.570  \n",
       "2    111349.719  \n",
       "3    246463.684  \n",
       "4      3108.380  "
      ]
     },
     "execution_count": 3,
     "metadata": {},
     "output_type": "execute_result"
    }
   ],
   "source": [
    "df.head()"
   ]
  },
  {
   "cell_type": "code",
   "execution_count": 4,
   "metadata": {},
   "outputs": [
    {
     "data": {
      "text/plain": [
       "(13521, 10)"
      ]
     },
     "execution_count": 4,
     "metadata": {},
     "output_type": "execute_result"
    }
   ],
   "source": [
    "df.shape"
   ]
  },
  {
   "cell_type": "code",
   "execution_count": 7,
   "metadata": {},
   "outputs": [],
   "source": [
    "plot_df = df[df['reporterDesc'] ==\"United Kingdom\"]"
   ]
  },
  {
   "cell_type": "code",
   "execution_count": 8,
   "metadata": {},
   "outputs": [
    {
     "data": {
      "application/vnd.plotly.v1+json": {
       "config": {
        "plotlyServerURL": "https://plot.ly"
       },
       "data": [
        {
         "branchvalues": "total",
         "customdata": {
          "bdata": "MzMzx1PMxUEAAMDgxfLgQQAAQAuWuN1BAADgKl4n4kEzMzPg1qmlQcP1KPqc1o9BzczMEKZwvkEAAAD8zG+gQWZmZuDYQLlBZmbm6gIcyEFmZma8gRC7QQAAAFHbY6NBZmZmRqLEokH6fmp8r5BIQQAAAE4PdslBZmZmcKjWuUHNzExoazy+QQAAgLIOUdFBAABg/nwe5EFmZibFoiXAQQAA4POvJeZBAADQen4kBEIAAMC3iKTWQTMzMzYNBKBBmpmZLt1cxEEAAAD8lFeiQQAA4Fsx3yNCAQDgScPj6kEAALjK3U4KQv//nyt0nRlCzczMMwvru0EAAECLZZDnQQAAoM7QoPVBAABgEK1/4UFlZibGfPnGQc3MzJLh85hBMzMzDjocpUEAAFDl6xj8QQAAaLTtxQVCAACg4KtX40HNzMz8DpKwQQAAANc/Z89BZmZmalhgdkHNzAzYFfLGQcl2vl9pCl1Bsp3vVyUaYEEAAIAYD53DQQAAYMcZteRBAADAN4+f5UH2KFzLaeJzQWZmZrvjUbdBmpmZpn7xp0EK16Oi+RiNQTMz8zQQDsBBmpmZzXDhsEEAAIDZJqq5Qc3MTBI4BbJBmpmZt31dn0HNzEyh8aO3QWZmZmiHDKJBAADAYwt/3UEAAAC6ZbPfQZqZWVbRrctBAADAN8SRy0EzMzOzGZejQVK4Hk2Wp2lBzczM/sCnhkEAAEARHuPRQWZmJkhxLcFBAADA6ZH81UEAAFAHdM8yQgAAoDASMv1BAADghQsp+UEAAEBHQYjfQQAAYAAcfOFBAABAkYPE6EFmZibHBfbBQT0K11k2j5RBZmZmnrJUbkEAAECQwEjUQQAAQFRTeslBAABACBwK1EEAAGg5ESg0QgEAED34gxpCMzMz3FOMxEEAAGwsCm8nQgAA0NAGVAtCAABA8NXp10EAACAZ5xEUQjMzs8HbS81BMzMzfyG3oUEAAICG5rbXQQAAQDoJV+1BAABAFqff3kFmZuatWzO8QQAAsEWfEfJBAACA8B5DEkI=",
          "dtype": "f8",
          "shape": "97, 1"
         },
         "domain": {
          "x": [
           0,
           1
          ],
          "y": [
           0,
           1
          ]
         },
         "hovertemplate": "labels=%{label}<br>primaryValue_sum=%{value}<br>parent=%{parent}<br>id=%{id}<br>primaryValue=%{color}<extra></extra>",
         "ids": [
          "Animals; live",
          "Meat and edible meat offal",
          "Fish and crustaceans, molluscs and other aquatic invertebrates",
          "Dairy produce; birds' eggs; natural honey; edible products of animal origin, not elsewhere specified or included",
          "Animal originated products; not elsewhere specified or included",
          "Trees and other plants, live; bulbs, roots and the like; cut flowers and ornamental foliage",
          "Vegetables and certain roots and tubers; edible",
          "Fruit and nuts, edible; peel of citrus fruit or melons",
          "Coffee, tea, mate and spices",
          "Cereals",
          "Products of the milling industry; malt, starches, inulin, wheat gluten",
          "Oil seeds and oleaginous fruits; miscellaneous grains, seeds and fruit, industrial or medicinal plants; straw and fodder",
          "Lac; gums, resins and other vegetable saps and extracts",
          "Vegetable plaiting materials; vegetable products not elsewhere specified or included",
          "Animal, vegetable or microbial fats and oils and their cleavage products; prepared edible fats; animal or vegetable waxes",
          "Meat, fish, crustaceans, molluscs or other aquatic invertebrates, or insects; preparations thereof",
          "Sugars and sugar confectionery",
          "Cocoa and cocoa preparations",
          "Preparations of cereals, flour, starch or milk; pastrycooks' products",
          "Preparations of vegetables, fruit, nuts or other parts of plants",
          "Miscellaneous edible preparations",
          "Beverages, spirits and vinegar",
          "Food industries, residues and wastes thereof; prepared animal fodder",
          "Tobacco and manufactured tobacco substitutes; products, whether or not containing nicotine, intended for inhalation without combustion; other nicotine containing products intended for the intake of nicotine into the human body",
          "Salt; sulphur; earths, stone; plastering materials, lime and cement",
          "Ores, slag and ash",
          "Mineral fuels, mineral oils and products of their distillation; bituminous substances; mineral waxes",
          "Inorganic chemicals; organic and inorganic compounds of precious metals; of rare earth metals, of radio-active elements and of isotopes",
          "Organic chemicals",
          "Pharmaceutical products",
          "Fertilizers",
          "Tanning or dyeing extracts; tannins and their derivatives; dyes, pigments and other colouring matter; paints, varnishes; putty, other mastics; inks",
          "Essential oils and resinoids; perfumery, cosmetic or toilet preparations",
          "Soap, organic surface-active agents; washing, lubricating, polishing or scouring preparations; artificial or prepared waxes, candles and similar articles, modelling pastes, dental waxes and dental preparations with a basis of plaster",
          "Albuminoidal substances; modified starches; glues; enzymes",
          "Explosives; pyrotechnic products; matches; pyrophoric alloys; certain combustible preparations",
          "Photographic or cinematographic goods",
          "Chemical products n.e.c.",
          "Plastics and articles thereof",
          "Rubber and articles thereof",
          "Raw hides and skins (other than furskins) and leather",
          "Articles of leather; saddlery and harness; travel goods, handbags and similar containers; articles of animal gut (other than silk-worm gut)",
          "Furskins and artificial fur; manufactures thereof",
          "Wood and articles of wood; wood charcoal",
          "Cork and articles of cork",
          "Manufactures of straw, esparto or other plaiting materials; basketware and wickerwork",
          "Pulp of wood or other fibrous cellulosic material; recovered (waste and scrap) paper or paperboard",
          "Paper and paperboard; articles of paper pulp, of paper or paperboard",
          "Printed books, newspapers, pictures and other products of the printing industry; manuscripts, typescripts and plans",
          "Silk",
          "Wool, fine or coarse animal hair; horsehair yarn and woven fabric",
          "Cotton",
          "Vegetable textile fibres; paper yarn and woven fabrics of paper yarn",
          "Man-made filaments; strip and the like of man-made textile materials",
          "Man-made staple fibres",
          "Wadding, felt and nonwovens, special yarns; twine, cordage, ropes and cables and articles thereof",
          "Carpets and other textile floor coverings",
          "Fabrics; special woven fabrics, tufted textile fabrics, lace, tapestries, trimmings, embroidery",
          "Textile fabrics; impregnated, coated, covered or laminated; textile articles of a kind suitable for industrial use",
          "Fabrics; knitted or crocheted",
          "Apparel and clothing accessories; knitted or crocheted",
          "Apparel and clothing accessories; not knitted or crocheted",
          "Textiles, made up articles; sets; worn clothing and worn textile articles; rags",
          "Footwear; gaiters and the like; parts of such articles",
          "Headgear and parts thereof",
          "Umbrellas, sun umbrellas, walking-sticks, seat sticks, whips, riding crops; and parts thereof",
          "Feathers and down, prepared; and articles made of feather or of down; artificial flowers; articles of human hair",
          "Stone, plaster, cement, asbestos, mica or similar materials; articles thereof",
          "Ceramic products",
          "Glass and glassware",
          "Natural, cultured pearls; precious, semi-precious stones; precious metals, metals clad with precious metal, and articles thereof; imitation jewellery; coin",
          "Iron and steel",
          "Iron or steel articles",
          "Copper and articles thereof",
          "Nickel and articles thereof",
          "Aluminium and articles thereof",
          "Lead and articles thereof",
          "Zinc and articles thereof",
          "Tin; articles thereof",
          "Metals; n.e.c., cermets and articles thereof",
          "Tools, implements, cutlery, spoons and forks, of base metal; parts thereof, of base metal",
          "Metal; miscellaneous products of base metal",
          "Machinery and mechanical appliances, boilers, nuclear reactors; parts thereof",
          "Electrical machinery and equipment and parts thereof; sound recorders and reproducers; television image and sound recorders and reproducers, parts and accessories of such articles",
          "Railway, tramway locomotives, rolling-stock and parts thereof; railway or tramway track fixtures and fittings and parts thereof; mechanical (including electro-mechanical) traffic signalling equipment of all kinds",
          "Vehicles; other than railway or tramway rolling stock, and parts and accessories thereof",
          "Aircraft, spacecraft, and parts thereof",
          "Ships, boats and floating structures",
          "Optical, photographic, cinematographic, measuring, checking, medical or surgical instruments and apparatus; parts and accessories",
          "Clocks and watches and parts thereof",
          "Musical instruments; parts and accessories of such articles",
          "Arms and ammunition; parts and accessories thereof",
          "Furniture; bedding, mattresses, mattress supports, cushions and similar stuffed furnishings; lamps and lighting fittings, n.e.c.; illuminated signs, illuminated name-plates and the like; prefabricated buildings",
          "Toys, games and sports requisites; parts and accessories thereof",
          "Miscellaneous manufactured articles",
          "Works of art; collectors' pieces and antiques",
          "Commodities not specified according to kind"
         ],
         "labels": [
          "Animals; live",
          "Meat and edible meat offal",
          "Fish and crustaceans, molluscs and other aquatic invertebrates",
          "Dairy produce; birds' eggs; natural honey; edible products of animal origin, not elsewhere specified or included",
          "Animal originated products; not elsewhere specified or included",
          "Trees and other plants, live; bulbs, roots and the like; cut flowers and ornamental foliage",
          "Vegetables and certain roots and tubers; edible",
          "Fruit and nuts, edible; peel of citrus fruit or melons",
          "Coffee, tea, mate and spices",
          "Cereals",
          "Products of the milling industry; malt, starches, inulin, wheat gluten",
          "Oil seeds and oleaginous fruits; miscellaneous grains, seeds and fruit, industrial or medicinal plants; straw and fodder",
          "Lac; gums, resins and other vegetable saps and extracts",
          "Vegetable plaiting materials; vegetable products not elsewhere specified or included",
          "Animal, vegetable or microbial fats and oils and their cleavage products; prepared edible fats; animal or vegetable waxes",
          "Meat, fish, crustaceans, molluscs or other aquatic invertebrates, or insects; preparations thereof",
          "Sugars and sugar confectionery",
          "Cocoa and cocoa preparations",
          "Preparations of cereals, flour, starch or milk; pastrycooks' products",
          "Preparations of vegetables, fruit, nuts or other parts of plants",
          "Miscellaneous edible preparations",
          "Beverages, spirits and vinegar",
          "Food industries, residues and wastes thereof; prepared animal fodder",
          "Tobacco and manufactured tobacco substitutes; products, whether or not containing nicotine, intended for inhalation without combustion; other nicotine containing products intended for the intake of nicotine into the human body",
          "Salt; sulphur; earths, stone; plastering materials, lime and cement",
          "Ores, slag and ash",
          "Mineral fuels, mineral oils and products of their distillation; bituminous substances; mineral waxes",
          "Inorganic chemicals; organic and inorganic compounds of precious metals; of rare earth metals, of radio-active elements and of isotopes",
          "Organic chemicals",
          "Pharmaceutical products",
          "Fertilizers",
          "Tanning or dyeing extracts; tannins and their derivatives; dyes, pigments and other colouring matter; paints, varnishes; putty, other mastics; inks",
          "Essential oils and resinoids; perfumery, cosmetic or toilet preparations",
          "Soap, organic surface-active agents; washing, lubricating, polishing or scouring preparations; artificial or prepared waxes, candles and similar articles, modelling pastes, dental waxes and dental preparations with a basis of plaster",
          "Albuminoidal substances; modified starches; glues; enzymes",
          "Explosives; pyrotechnic products; matches; pyrophoric alloys; certain combustible preparations",
          "Photographic or cinematographic goods",
          "Chemical products n.e.c.",
          "Plastics and articles thereof",
          "Rubber and articles thereof",
          "Raw hides and skins (other than furskins) and leather",
          "Articles of leather; saddlery and harness; travel goods, handbags and similar containers; articles of animal gut (other than silk-worm gut)",
          "Furskins and artificial fur; manufactures thereof",
          "Wood and articles of wood; wood charcoal",
          "Cork and articles of cork",
          "Manufactures of straw, esparto or other plaiting materials; basketware and wickerwork",
          "Pulp of wood or other fibrous cellulosic material; recovered (waste and scrap) paper or paperboard",
          "Paper and paperboard; articles of paper pulp, of paper or paperboard",
          "Printed books, newspapers, pictures and other products of the printing industry; manuscripts, typescripts and plans",
          "Silk",
          "Wool, fine or coarse animal hair; horsehair yarn and woven fabric",
          "Cotton",
          "Vegetable textile fibres; paper yarn and woven fabrics of paper yarn",
          "Man-made filaments; strip and the like of man-made textile materials",
          "Man-made staple fibres",
          "Wadding, felt and nonwovens, special yarns; twine, cordage, ropes and cables and articles thereof",
          "Carpets and other textile floor coverings",
          "Fabrics; special woven fabrics, tufted textile fabrics, lace, tapestries, trimmings, embroidery",
          "Textile fabrics; impregnated, coated, covered or laminated; textile articles of a kind suitable for industrial use",
          "Fabrics; knitted or crocheted",
          "Apparel and clothing accessories; knitted or crocheted",
          "Apparel and clothing accessories; not knitted or crocheted",
          "Textiles, made up articles; sets; worn clothing and worn textile articles; rags",
          "Footwear; gaiters and the like; parts of such articles",
          "Headgear and parts thereof",
          "Umbrellas, sun umbrellas, walking-sticks, seat sticks, whips, riding crops; and parts thereof",
          "Feathers and down, prepared; and articles made of feather or of down; artificial flowers; articles of human hair",
          "Stone, plaster, cement, asbestos, mica or similar materials; articles thereof",
          "Ceramic products",
          "Glass and glassware",
          "Natural, cultured pearls; precious, semi-precious stones; precious metals, metals clad with precious metal, and articles thereof; imitation jewellery; coin",
          "Iron and steel",
          "Iron or steel articles",
          "Copper and articles thereof",
          "Nickel and articles thereof",
          "Aluminium and articles thereof",
          "Lead and articles thereof",
          "Zinc and articles thereof",
          "Tin; articles thereof",
          "Metals; n.e.c., cermets and articles thereof",
          "Tools, implements, cutlery, spoons and forks, of base metal; parts thereof, of base metal",
          "Metal; miscellaneous products of base metal",
          "Machinery and mechanical appliances, boilers, nuclear reactors; parts thereof",
          "Electrical machinery and equipment and parts thereof; sound recorders and reproducers; television image and sound recorders and reproducers, parts and accessories of such articles",
          "Railway, tramway locomotives, rolling-stock and parts thereof; railway or tramway track fixtures and fittings and parts thereof; mechanical (including electro-mechanical) traffic signalling equipment of all kinds",
          "Vehicles; other than railway or tramway rolling stock, and parts and accessories thereof",
          "Aircraft, spacecraft, and parts thereof",
          "Ships, boats and floating structures",
          "Optical, photographic, cinematographic, measuring, checking, medical or surgical instruments and apparatus; parts and accessories",
          "Clocks and watches and parts thereof",
          "Musical instruments; parts and accessories of such articles",
          "Arms and ammunition; parts and accessories thereof",
          "Furniture; bedding, mattresses, mattress supports, cushions and similar stuffed furnishings; lamps and lighting fittings, n.e.c.; illuminated signs, illuminated name-plates and the like; prefabricated buildings",
          "Toys, games and sports requisites; parts and accessories thereof",
          "Miscellaneous manufactured articles",
          "Works of art; collectors' pieces and antiques",
          "Commodities not specified according to kind"
         ],
         "marker": {
          "coloraxis": "coloraxis",
          "colors": {
           "bdata": "MzMzx1PMxUEAAMDgxfLgQQAAQAuWuN1BAADgKl4n4kEzMzPg1qmlQcP1KPqc1o9BzczMEKZwvkEAAAD8zG+gQWZmZuDYQLlBZmbm6gIcyEFmZma8gRC7QQAAAFHbY6NBZmZmRqLEokH6fmp8r5BIQQAAAE4PdslBZmZmcKjWuUHNzExoazy+QQAAgLIOUdFBAABg/nwe5EFmZibFoiXAQQAA4POvJeZBAADQen4kBEIAAMC3iKTWQTMzMzYNBKBBmpmZLt1cxEEAAAD8lFeiQQAA4Fsx3yNCAQDgScPj6kEAALjK3U4KQv//nyt0nRlCzczMMwvru0EAAECLZZDnQQAAoM7QoPVBAABgEK1/4UFlZibGfPnGQc3MzJLh85hBMzMzDjocpUEAAFDl6xj8QQAAaLTtxQVCAACg4KtX40HNzMz8DpKwQQAAANc/Z89BZmZmalhgdkHNzAzYFfLGQcl2vl9pCl1Bsp3vVyUaYEEAAIAYD53DQQAAYMcZteRBAADAN4+f5UH2KFzLaeJzQWZmZrvjUbdBmpmZpn7xp0EK16Oi+RiNQTMz8zQQDsBBmpmZzXDhsEEAAIDZJqq5Qc3MTBI4BbJBmpmZt31dn0HNzEyh8aO3QWZmZmiHDKJBAADAYwt/3UEAAAC6ZbPfQZqZWVbRrctBAADAN8SRy0EzMzOzGZejQVK4Hk2Wp2lBzczM/sCnhkEAAEARHuPRQWZmJkhxLcFBAADA6ZH81UEAAFAHdM8yQgAAoDASMv1BAADghQsp+UEAAEBHQYjfQQAAYAAcfOFBAABAkYPE6EFmZibHBfbBQT0K11k2j5RBZmZmnrJUbkEAAECQwEjUQQAAQFRTeslBAABACBwK1EEAAGg5ESg0QgEAED34gxpCMzMz3FOMxEEAAGwsCm8nQgAA0NAGVAtCAABA8NXp10EAACAZ5xEUQjMzs8HbS81BMzMzfyG3oUEAAICG5rbXQQAAQDoJV+1BAABAFqff3kFmZuatWzO8QQAAsEWfEfJBAACA8B5DEkI=",
           "dtype": "f8"
          }
         },
         "name": "",
         "parents": [
          "",
          "",
          "",
          "",
          "",
          "",
          "",
          "",
          "",
          "",
          "",
          "",
          "",
          "",
          "",
          "",
          "",
          "",
          "",
          "",
          "",
          "",
          "",
          "",
          "",
          "",
          "",
          "",
          "",
          "",
          "",
          "",
          "",
          "",
          "",
          "",
          "",
          "",
          "",
          "",
          "",
          "",
          "",
          "",
          "",
          "",
          "",
          "",
          "",
          "",
          "",
          "",
          "",
          "",
          "",
          "",
          "",
          "",
          "",
          "",
          "",
          "",
          "",
          "",
          "",
          "",
          "",
          "",
          "",
          "",
          "",
          "",
          "",
          "",
          "",
          "",
          "",
          "",
          "",
          "",
          "",
          "",
          "",
          "",
          "",
          "",
          "",
          "",
          "",
          "",
          "",
          "",
          "",
          "",
          "",
          "",
          ""
         ],
         "type": "treemap",
         "values": {
          "bdata": "MzMzx1PMxUEAAMDgxfLgQQAAQAuWuN1BAADgKl4n4kEzMzPg1qmlQcP1KPqc1o9BzczMEKZwvkEAAAD8zG+gQWZmZuDYQLlBZmbm6gIcyEFmZma8gRC7QQAAAFHbY6NBZmZmRqLEokH6fmp8r5BIQQAAAE4PdslBZmZmcKjWuUHNzExoazy+QQAAgLIOUdFBAABg/nwe5EFmZibFoiXAQQAA4POvJeZBAADQen4kBEIAAMC3iKTWQTMzMzYNBKBBmpmZLt1cxEEAAAD8lFeiQQAA4Fsx3yNCAADgScPj6kEAALjK3U4KQgAAoCt0nRlCzczMMwvru0EAAECLZZDnQQAAoM7QoPVBAABgEK1/4UFmZibGfPnGQc3MzJLh85hBMzMzDjocpUEAAFDl6xj8QQAAaLTtxQVCAACg4KtX40HNzMz8DpKwQQAAANc/Z89BZmZmalhgdkHNzAzYFfLGQcl2vl9pCl1Bsp3vVyUaYEEAAIAYD53DQQAAYMcZteRBAADAN4+f5UH2KFzLaeJzQWZmZrvjUbdBmpmZpn7xp0EK16Oi+RiNQTMz8zQQDsBBmpmZzXDhsEEAAIDZJqq5Qc3MTBI4BbJBmpmZt31dn0HNzEyh8aO3QWZmZmiHDKJBAADAYwt/3UEAAAC6ZbPfQZqZWVbRrctBAADAN8SRy0EzMzOzGZejQVK4Hk2Wp2lBzczM/sCnhkEAAEARHuPRQWZmJkhxLcFBAADA6ZH81UEAAFAHdM8yQgAAoDASMv1BAADghQsp+UEAAEBHQYjfQQAAYAAcfOFBAABAkYPE6EFmZibHBfbBQT0K11k2j5RBZmZmnrJUbkEAAECQwEjUQQAAQFRTeslBAABACBwK1EEAAGg5ESg0QgAAED34gxpCMzMz3FOMxEEAAGwsCm8nQgAA0NAGVAtCAABA8NXp10EAACAZ5xEUQjMzs8HbS81BMzMzfyG3oUEAAICG5rbXQQAAQDoJV+1BAABAFqff3kFmZuatWzO8QQAAsEWfEfJBAACA8B5DEkI=",
          "dtype": "f8"
         }
        }
       ],
       "layout": {
        "coloraxis": {
         "colorbar": {
          "title": {
           "text": "primaryValue"
          }
         },
         "colorscale": [
          [
           0,
           "rgb(103,0,31)"
          ],
          [
           0.1,
           "rgb(178,24,43)"
          ],
          [
           0.2,
           "rgb(214,96,77)"
          ],
          [
           0.3,
           "rgb(244,165,130)"
          ],
          [
           0.4,
           "rgb(253,219,199)"
          ],
          [
           0.5,
           "rgb(247,247,247)"
          ],
          [
           0.6,
           "rgb(209,229,240)"
          ],
          [
           0.7,
           "rgb(146,197,222)"
          ],
          [
           0.8,
           "rgb(67,147,195)"
          ],
          [
           0.9,
           "rgb(33,102,172)"
          ],
          [
           1,
           "rgb(5,48,97)"
          ]
         ]
        },
        "font": {
         "size": 16
        },
        "legend": {
         "tracegroupgap": 0
        },
        "margin": {
         "b": 25,
         "l": 25,
         "r": 25,
         "t": 50
        },
        "template": {
         "data": {
          "bar": [
           {
            "error_x": {
             "color": "#2a3f5f"
            },
            "error_y": {
             "color": "#2a3f5f"
            },
            "marker": {
             "line": {
              "color": "#E5ECF6",
              "width": 0.5
             },
             "pattern": {
              "fillmode": "overlay",
              "size": 10,
              "solidity": 0.2
             }
            },
            "type": "bar"
           }
          ],
          "barpolar": [
           {
            "marker": {
             "line": {
              "color": "#E5ECF6",
              "width": 0.5
             },
             "pattern": {
              "fillmode": "overlay",
              "size": 10,
              "solidity": 0.2
             }
            },
            "type": "barpolar"
           }
          ],
          "carpet": [
           {
            "aaxis": {
             "endlinecolor": "#2a3f5f",
             "gridcolor": "white",
             "linecolor": "white",
             "minorgridcolor": "white",
             "startlinecolor": "#2a3f5f"
            },
            "baxis": {
             "endlinecolor": "#2a3f5f",
             "gridcolor": "white",
             "linecolor": "white",
             "minorgridcolor": "white",
             "startlinecolor": "#2a3f5f"
            },
            "type": "carpet"
           }
          ],
          "choropleth": [
           {
            "colorbar": {
             "outlinewidth": 0,
             "ticks": ""
            },
            "type": "choropleth"
           }
          ],
          "contour": [
           {
            "colorbar": {
             "outlinewidth": 0,
             "ticks": ""
            },
            "colorscale": [
             [
              0,
              "#0d0887"
             ],
             [
              0.1111111111111111,
              "#46039f"
             ],
             [
              0.2222222222222222,
              "#7201a8"
             ],
             [
              0.3333333333333333,
              "#9c179e"
             ],
             [
              0.4444444444444444,
              "#bd3786"
             ],
             [
              0.5555555555555556,
              "#d8576b"
             ],
             [
              0.6666666666666666,
              "#ed7953"
             ],
             [
              0.7777777777777778,
              "#fb9f3a"
             ],
             [
              0.8888888888888888,
              "#fdca26"
             ],
             [
              1,
              "#f0f921"
             ]
            ],
            "type": "contour"
           }
          ],
          "contourcarpet": [
           {
            "colorbar": {
             "outlinewidth": 0,
             "ticks": ""
            },
            "type": "contourcarpet"
           }
          ],
          "heatmap": [
           {
            "colorbar": {
             "outlinewidth": 0,
             "ticks": ""
            },
            "colorscale": [
             [
              0,
              "#0d0887"
             ],
             [
              0.1111111111111111,
              "#46039f"
             ],
             [
              0.2222222222222222,
              "#7201a8"
             ],
             [
              0.3333333333333333,
              "#9c179e"
             ],
             [
              0.4444444444444444,
              "#bd3786"
             ],
             [
              0.5555555555555556,
              "#d8576b"
             ],
             [
              0.6666666666666666,
              "#ed7953"
             ],
             [
              0.7777777777777778,
              "#fb9f3a"
             ],
             [
              0.8888888888888888,
              "#fdca26"
             ],
             [
              1,
              "#f0f921"
             ]
            ],
            "type": "heatmap"
           }
          ],
          "histogram": [
           {
            "marker": {
             "pattern": {
              "fillmode": "overlay",
              "size": 10,
              "solidity": 0.2
             }
            },
            "type": "histogram"
           }
          ],
          "histogram2d": [
           {
            "colorbar": {
             "outlinewidth": 0,
             "ticks": ""
            },
            "colorscale": [
             [
              0,
              "#0d0887"
             ],
             [
              0.1111111111111111,
              "#46039f"
             ],
             [
              0.2222222222222222,
              "#7201a8"
             ],
             [
              0.3333333333333333,
              "#9c179e"
             ],
             [
              0.4444444444444444,
              "#bd3786"
             ],
             [
              0.5555555555555556,
              "#d8576b"
             ],
             [
              0.6666666666666666,
              "#ed7953"
             ],
             [
              0.7777777777777778,
              "#fb9f3a"
             ],
             [
              0.8888888888888888,
              "#fdca26"
             ],
             [
              1,
              "#f0f921"
             ]
            ],
            "type": "histogram2d"
           }
          ],
          "histogram2dcontour": [
           {
            "colorbar": {
             "outlinewidth": 0,
             "ticks": ""
            },
            "colorscale": [
             [
              0,
              "#0d0887"
             ],
             [
              0.1111111111111111,
              "#46039f"
             ],
             [
              0.2222222222222222,
              "#7201a8"
             ],
             [
              0.3333333333333333,
              "#9c179e"
             ],
             [
              0.4444444444444444,
              "#bd3786"
             ],
             [
              0.5555555555555556,
              "#d8576b"
             ],
             [
              0.6666666666666666,
              "#ed7953"
             ],
             [
              0.7777777777777778,
              "#fb9f3a"
             ],
             [
              0.8888888888888888,
              "#fdca26"
             ],
             [
              1,
              "#f0f921"
             ]
            ],
            "type": "histogram2dcontour"
           }
          ],
          "mesh3d": [
           {
            "colorbar": {
             "outlinewidth": 0,
             "ticks": ""
            },
            "type": "mesh3d"
           }
          ],
          "parcoords": [
           {
            "line": {
             "colorbar": {
              "outlinewidth": 0,
              "ticks": ""
             }
            },
            "type": "parcoords"
           }
          ],
          "pie": [
           {
            "automargin": true,
            "type": "pie"
           }
          ],
          "scatter": [
           {
            "fillpattern": {
             "fillmode": "overlay",
             "size": 10,
             "solidity": 0.2
            },
            "type": "scatter"
           }
          ],
          "scatter3d": [
           {
            "line": {
             "colorbar": {
              "outlinewidth": 0,
              "ticks": ""
             }
            },
            "marker": {
             "colorbar": {
              "outlinewidth": 0,
              "ticks": ""
             }
            },
            "type": "scatter3d"
           }
          ],
          "scattercarpet": [
           {
            "marker": {
             "colorbar": {
              "outlinewidth": 0,
              "ticks": ""
             }
            },
            "type": "scattercarpet"
           }
          ],
          "scattergeo": [
           {
            "marker": {
             "colorbar": {
              "outlinewidth": 0,
              "ticks": ""
             }
            },
            "type": "scattergeo"
           }
          ],
          "scattergl": [
           {
            "marker": {
             "colorbar": {
              "outlinewidth": 0,
              "ticks": ""
             }
            },
            "type": "scattergl"
           }
          ],
          "scattermap": [
           {
            "marker": {
             "colorbar": {
              "outlinewidth": 0,
              "ticks": ""
             }
            },
            "type": "scattermap"
           }
          ],
          "scattermapbox": [
           {
            "marker": {
             "colorbar": {
              "outlinewidth": 0,
              "ticks": ""
             }
            },
            "type": "scattermapbox"
           }
          ],
          "scatterpolar": [
           {
            "marker": {
             "colorbar": {
              "outlinewidth": 0,
              "ticks": ""
             }
            },
            "type": "scatterpolar"
           }
          ],
          "scatterpolargl": [
           {
            "marker": {
             "colorbar": {
              "outlinewidth": 0,
              "ticks": ""
             }
            },
            "type": "scatterpolargl"
           }
          ],
          "scatterternary": [
           {
            "marker": {
             "colorbar": {
              "outlinewidth": 0,
              "ticks": ""
             }
            },
            "type": "scatterternary"
           }
          ],
          "surface": [
           {
            "colorbar": {
             "outlinewidth": 0,
             "ticks": ""
            },
            "colorscale": [
             [
              0,
              "#0d0887"
             ],
             [
              0.1111111111111111,
              "#46039f"
             ],
             [
              0.2222222222222222,
              "#7201a8"
             ],
             [
              0.3333333333333333,
              "#9c179e"
             ],
             [
              0.4444444444444444,
              "#bd3786"
             ],
             [
              0.5555555555555556,
              "#d8576b"
             ],
             [
              0.6666666666666666,
              "#ed7953"
             ],
             [
              0.7777777777777778,
              "#fb9f3a"
             ],
             [
              0.8888888888888888,
              "#fdca26"
             ],
             [
              1,
              "#f0f921"
             ]
            ],
            "type": "surface"
           }
          ],
          "table": [
           {
            "cells": {
             "fill": {
              "color": "#EBF0F8"
             },
             "line": {
              "color": "white"
             }
            },
            "header": {
             "fill": {
              "color": "#C8D4E3"
             },
             "line": {
              "color": "white"
             }
            },
            "type": "table"
           }
          ]
         },
         "layout": {
          "annotationdefaults": {
           "arrowcolor": "#2a3f5f",
           "arrowhead": 0,
           "arrowwidth": 1
          },
          "autotypenumbers": "strict",
          "coloraxis": {
           "colorbar": {
            "outlinewidth": 0,
            "ticks": ""
           }
          },
          "colorscale": {
           "diverging": [
            [
             0,
             "#8e0152"
            ],
            [
             0.1,
             "#c51b7d"
            ],
            [
             0.2,
             "#de77ae"
            ],
            [
             0.3,
             "#f1b6da"
            ],
            [
             0.4,
             "#fde0ef"
            ],
            [
             0.5,
             "#f7f7f7"
            ],
            [
             0.6,
             "#e6f5d0"
            ],
            [
             0.7,
             "#b8e186"
            ],
            [
             0.8,
             "#7fbc41"
            ],
            [
             0.9,
             "#4d9221"
            ],
            [
             1,
             "#276419"
            ]
           ],
           "sequential": [
            [
             0,
             "#0d0887"
            ],
            [
             0.1111111111111111,
             "#46039f"
            ],
            [
             0.2222222222222222,
             "#7201a8"
            ],
            [
             0.3333333333333333,
             "#9c179e"
            ],
            [
             0.4444444444444444,
             "#bd3786"
            ],
            [
             0.5555555555555556,
             "#d8576b"
            ],
            [
             0.6666666666666666,
             "#ed7953"
            ],
            [
             0.7777777777777778,
             "#fb9f3a"
            ],
            [
             0.8888888888888888,
             "#fdca26"
            ],
            [
             1,
             "#f0f921"
            ]
           ],
           "sequentialminus": [
            [
             0,
             "#0d0887"
            ],
            [
             0.1111111111111111,
             "#46039f"
            ],
            [
             0.2222222222222222,
             "#7201a8"
            ],
            [
             0.3333333333333333,
             "#9c179e"
            ],
            [
             0.4444444444444444,
             "#bd3786"
            ],
            [
             0.5555555555555556,
             "#d8576b"
            ],
            [
             0.6666666666666666,
             "#ed7953"
            ],
            [
             0.7777777777777778,
             "#fb9f3a"
            ],
            [
             0.8888888888888888,
             "#fdca26"
            ],
            [
             1,
             "#f0f921"
            ]
           ]
          },
          "colorway": [
           "#636efa",
           "#EF553B",
           "#00cc96",
           "#ab63fa",
           "#FFA15A",
           "#19d3f3",
           "#FF6692",
           "#B6E880",
           "#FF97FF",
           "#FECB52"
          ],
          "font": {
           "color": "#2a3f5f"
          },
          "geo": {
           "bgcolor": "white",
           "lakecolor": "white",
           "landcolor": "#E5ECF6",
           "showlakes": true,
           "showland": true,
           "subunitcolor": "white"
          },
          "hoverlabel": {
           "align": "left"
          },
          "hovermode": "closest",
          "mapbox": {
           "style": "light"
          },
          "paper_bgcolor": "white",
          "plot_bgcolor": "#E5ECF6",
          "polar": {
           "angularaxis": {
            "gridcolor": "white",
            "linecolor": "white",
            "ticks": ""
           },
           "bgcolor": "#E5ECF6",
           "radialaxis": {
            "gridcolor": "white",
            "linecolor": "white",
            "ticks": ""
           }
          },
          "scene": {
           "xaxis": {
            "backgroundcolor": "#E5ECF6",
            "gridcolor": "white",
            "gridwidth": 2,
            "linecolor": "white",
            "showbackground": true,
            "ticks": "",
            "zerolinecolor": "white"
           },
           "yaxis": {
            "backgroundcolor": "#E5ECF6",
            "gridcolor": "white",
            "gridwidth": 2,
            "linecolor": "white",
            "showbackground": true,
            "ticks": "",
            "zerolinecolor": "white"
           },
           "zaxis": {
            "backgroundcolor": "#E5ECF6",
            "gridcolor": "white",
            "gridwidth": 2,
            "linecolor": "white",
            "showbackground": true,
            "ticks": "",
            "zerolinecolor": "white"
           }
          },
          "shapedefaults": {
           "line": {
            "color": "#2a3f5f"
           }
          },
          "ternary": {
           "aaxis": {
            "gridcolor": "white",
            "linecolor": "white",
            "ticks": ""
           },
           "baxis": {
            "gridcolor": "white",
            "linecolor": "white",
            "ticks": ""
           },
           "bgcolor": "#E5ECF6",
           "caxis": {
            "gridcolor": "white",
            "linecolor": "white",
            "ticks": ""
           }
          },
          "title": {
           "x": 0.05
          },
          "xaxis": {
           "automargin": true,
           "gridcolor": "white",
           "linecolor": "white",
           "ticks": "",
           "title": {
            "standoff": 15
           },
           "zerolinecolor": "white",
           "zerolinewidth": 2
          },
          "yaxis": {
           "automargin": true,
           "gridcolor": "white",
           "linecolor": "white",
           "ticks": "",
           "title": {
            "standoff": 15
           },
           "zerolinecolor": "white",
           "zerolinewidth": 2
          }
         }
        },
        "title": {
         "text": "Product Categories Treemap"
        }
       }
      }
     },
     "metadata": {},
     "output_type": "display_data"
    }
   ],
   "source": [
    "# Create the treemap\n",
    "fig = px.treemap(\n",
    "    plot_df,\n",
    "    path=['cmdDesc'],  # Define the hierarchy\n",
    "    values='primaryValue',                       # Size of each rectangle\n",
    "    color='primaryValue',                        # Color based on values\n",
    "    color_continuous_scale='RdBu',         # Color scale\n",
    "    title='Product Categories Treemap'\n",
    ")\n",
    "\n",
    "# Update layout\n",
    "fig.update_layout(\n",
    "    margin=dict(t=50, l=25, r=25, b=25),  # Adjust margins\n",
    "    font=dict(size=16)                    # Adjust font size\n",
    ")\n",
    "\n",
    "# Show the plot\n",
    "fig.show()"
   ]
  }
 ],
 "metadata": {
  "kernelspec": {
   "display_name": ".venv",
   "language": "python",
   "name": "python3"
  },
  "language_info": {
   "codemirror_mode": {
    "name": "ipython",
    "version": 3
   },
   "file_extension": ".py",
   "mimetype": "text/x-python",
   "name": "python",
   "nbconvert_exporter": "python",
   "pygments_lexer": "ipython3",
   "version": "3.12.4"
  }
 },
 "nbformat": 4,
 "nbformat_minor": 2
}
